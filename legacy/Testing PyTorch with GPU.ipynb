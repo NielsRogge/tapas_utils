{
 "cells": [
  {
   "cell_type": "code",
   "execution_count": 9,
   "metadata": {},
   "outputs": [],
   "source": [
    "import sys  \n",
    "# in order to be able to import the segmented_tensor module, provide the path of the directory in which the file is located\n",
    "sys.path.insert(0, r\"C:\\Users\\niels.rogge\\Documents\\Python projecten\\tapas_utils\")\n",
    "\n",
    "import segmented_tensor"
   ]
  },
  {
   "cell_type": "code",
   "execution_count": 10,
   "metadata": {},
   "outputs": [],
   "source": [
    "import torch\n",
    "\n",
    "values = torch.tensor([\n",
    "            [[1.0, 2.0, 3.0], [2.0, 0.0, 1.0], [1.0, 3.0, 4.0]],\n",
    "            [[1.0, 2.0, 3.0], [2.0, 0.0, 1.0], [1.0, 3.0, 4.0]],\n",
    "        ])\n",
    "row_index = segmented_tensor.IndexMap(\n",
    "            indices=[\n",
    "                [[0, 0, 0], [1, 1, 1], [2, 2, 2]],\n",
    "                [[0, 0, 0], [1, 1, 1], [2, 2, 2]],\n",
    "            ],\n",
    "            num_segments=3,\n",
    "            batch_dims=1)\n",
    "col_index = segmented_tensor.IndexMap(\n",
    "            indices=[\n",
    "                [[0, 0, 1], [0, 0, 1], [0, 0, 1]],\n",
    "                [[0, 1, 2], [0, 1, 2], [0, 1, 2]],\n",
    "            ],\n",
    "            num_segments=3,\n",
    "            batch_dims=1)"
   ]
  },
  {
   "cell_type": "code",
   "execution_count": 12,
   "metadata": {},
   "outputs": [
    {
     "output_type": "execute_result",
     "data": {
      "text/plain": "tensor([[[0, 0, 1],\n         [3, 3, 4],\n         [6, 6, 7]],\n\n        [[0, 1, 2],\n         [3, 4, 5],\n         [6, 7, 8]]])"
     },
     "metadata": {},
     "execution_count": 12
    }
   ],
   "source": [
    "cell_index = segmented_tensor.ProductIndexMap(row_index, col_index)\n",
    "cell_index.indices"
   ]
  },
  {
   "cell_type": "code",
   "execution_count": 13,
   "metadata": {
    "tags": []
   },
   "outputs": [
    {
     "output_type": "execute_result",
     "data": {
      "text/plain": "tensor(9)"
     },
     "metadata": {},
     "execution_count": 13
    }
   ],
   "source": [
    "cell_index.num_segments"
   ]
  },
  {
   "cell_type": "code",
   "execution_count": 14,
   "metadata": {},
   "outputs": [
    {
     "output_type": "execute_result",
     "data": {
      "text/plain": "tensor([ 0,  0,  1,  3,  3,  4,  6,  6,  7,  9, 10, 11, 12, 13, 14, 15, 16, 17])"
     },
     "metadata": {},
     "execution_count": 14
    }
   ],
   "source": [
    "flattened_cell_index = segmented_tensor.flatten(cell_index)\n",
    "flattened_cell_index.indices"
   ]
  },
  {
   "cell_type": "code",
   "execution_count": null,
   "metadata": {},
   "outputs": [],
   "source": []
  }
 ],
 "metadata": {
  "kernelspec": {
   "name": "python36464bitenvvenv7654bba67d3f49b8abaaaf417dcec2e5",
   "display_name": "Python 3.6.4 64-bit ('env': venv)"
  }
 },
 "nbformat": 4,
 "nbformat_minor": 4
}